{
 "cells": [
  {
   "cell_type": "markdown",
   "metadata": {},
   "source": [
    "# Regular Expressions \n",
    "---\n",
    "A regular expression is a special sequence of characters that helps you match or find other strings or sets of strings, using a specialized syntax held in a pattern.\n",
    "\n",
    "The module **re** provides full support for Perl-like regular expressions in Python. "
   ]
  },
  {
   "cell_type": "code",
   "execution_count": 1,
   "metadata": {
    "collapsed": true
   },
   "outputs": [],
   "source": [
    "# first import re\n",
    "import re"
   ]
  },
  {
   "cell_type": "markdown",
   "metadata": {},
   "source": [
    "# Regular Expressions Functions\n",
    "---\n",
    "\n",
    "* ## match Function\n",
    "Here is the syntax for this function −\n",
    "\n",
    "```python\n",
    "re.match(pattern, string, flags=0)\n",
    "```\n",
    "This function attempts to match pattern to string with optional flags.\n",
    "#### The re.match function returns a match object on success, None on failure. \n",
    "---\n",
    "* ## search Function\n",
    "Here is the syntax for this function −\n",
    "\n",
    "```python\n",
    "re.search(pattern, string, flags=0)\n",
    "```\n",
    "This function searches for first occurrence of RE pattern within string with optional flags.\n",
    "#### The re.search function returns a match object on success, none on failure.\n",
    "---\n",
    "* ## findall Function\n",
    "Here is the syntax for this function −\n",
    "\n",
    "```python\n",
    "re.findall(pattern, string, flags=0)\n",
    "```\n",
    "The string is scanned left-to-right, and matches are returned in the order found. If one or more groups are present in the pattern, return a list of groups; this will be a list of tuples if the pattern has more than one group. Empty matches are included in the result unless they touch the beginning of another match.\n",
    "#### Return all non-overlapping matches of pattern in string, as a list of strings.\n",
    "---\n",
    "* ## search and replace\n",
    "Here is the syntax for this function −\n",
    "\n",
    "```python\n",
    "re.sub(pattern, repl, string, max=0)\n",
    "```\n",
    "This method replaces all occurrences of the RE pattern in string with repl, substituting all occurrences unless max provided. \n",
    "#### This method returns modified string.\n",
    "\n",
    "For more information visit the Regular Expression [Documentaion](https://docs.python.org/2/library/re.html)\n",
    "\n",
    "Another useful [Resource](https://www.tutorialspoint.com/python/python_reg_expressions.htm)"
   ]
  },
  {
   "cell_type": "markdown",
   "metadata": {},
   "source": [
    "# Meta-characters: Character matches\n",
    "- __.__ : wildcard, matches a single character\n",
    "- __^__ : starts of a string\n",
    "- __$__ : end of a string\n",
    "- __[ ]__ : matches one of the range of character **a, b, ..., z**\n",
    "- __[^abc]__ : matches a character that is **not a, b, or, c**\n",
    "- __a|b__ : matches either **a or b**, where a and b are strings\n",
    "- __( )__ : scoping for operations\n",
    "- __\\__ : Escape character for special characters i.e; **\\t, \\n, \\b**\n",
    "- __\\b__ : matches word boundary\n",
    "- __\\d__ : Any digit, equicalent to **[0-9]**\n",
    "- __\\D__ : Any non-digit, equivalent to **[^0-9]**\n",
    "- __\\s__ : Any whitespace, equivalent to **[ \\t\\n\\r\\f\\v]**\n",
    "- __\\S__ : Any whitespace, equivalent to **[^ \\t\\n\\r\\f\\v]**\n",
    "- __\\w__ : Any alphanumeric character, equivalent to **[a-zA-Z0-9_]**\n",
    "- __\\W__ : Any non-alphanumeric character, equivalent to **[^a-zA-Z0-9_]**\n",
    "\n",
    "# Meta-characters: Repetitions\n",
    "- __*__ : matches **zero** or **more** occurrences\n",
    "- __+__ : matches **one** or **more** occurrences\n",
    "- __?__ : matches **zero** or **one** occurrences\n",
    "- __{n}__ : exactly **n** repetitions, **n >= 0**\n",
    "- __{n,}__ : at least **n** repetitions\n",
    "- __{,n}__ : at most **n** repetitions\n",
    "- __{m,n}__ : at least **m** and at most **n** repetitions\n",
    "\n",
    "## Example:\n",
    "\n",
    "![Example](https://preview.ibb.co/g1gkta/Screenshot_34.png)\n",
    "\n"
   ]
  },
  {
   "cell_type": "code",
   "execution_count": 2,
   "metadata": {},
   "outputs": [
    {
     "name": "stdout",
     "output_type": "stream",
     "text": [
      "['o', 'u', 'a', 'a', 'o', 'u', 'o', 'u']\n",
      "['o', 'u', 'a', 'a', 'o', 'u', 'o', 'u']\n"
     ]
    }
   ],
   "source": [
    "# find all the vowels\n",
    "text = 'ouagadougou'\n",
    "print(re.findall(r'[aeiou]', text))\n",
    "# or \n",
    "print(re.findall('[aeiou]', text))"
   ]
  },
  {
   "cell_type": "code",
   "execution_count": 3,
   "metadata": {},
   "outputs": [
    {
     "name": "stdout",
     "output_type": "stream",
     "text": [
      "['g', 'd', 'g']\n"
     ]
    }
   ],
   "source": [
    "# find all the consonants\n",
    "text = 'ouagadougou' \n",
    "print(re.findall('[^aeiou]', text))"
   ]
  },
  {
   "cell_type": "markdown",
   "metadata": {},
   "source": [
    "# Regular Expressiions for dates\n",
    "---\n",
    "![Date](https://preview.ibb.co/he1P3a/Screenshot_35.png)"
   ]
  },
  {
   "cell_type": "code",
   "execution_count": 4,
   "metadata": {},
   "outputs": [
    {
     "name": "stdout",
     "output_type": "stream",
     "text": [
      "['23-10-2002', '23/10/2002', '10/23/2002']\n",
      "['23-10-2002', '23/10/2002', '23/10/02', '10/23/2002']\n",
      "['23-10-2002', '23/10/2002', '23/10/02', '10/23/2002']\n"
     ]
    }
   ],
   "source": [
    "dateStr = '23-10-2002\\n23/10/2002\\n23/10/02\\n10/23/2002\\n23 Oct 2002\\n23 October 2002\\nOct 23, 2002\\nOctober 23, 2002\\n'\n",
    "\n",
    "# {2 dig} / or - {2 dig} / or - {4 dig}\n",
    "print(re.findall('\\d{2}[/-]\\d{2}[/-]\\d{4}',dateStr))\n",
    "# {2 dig} / or - {2 dig} / or - {4 or 2 dig}\n",
    "print(re.findall('\\d{2}[/-]\\d{2}[/-]\\d{2,4}',dateStr))\n",
    "# {1 or 2 dig} / or - {1 or 2 dig} / or - {4 or 2 dig}\n",
    "print(re.findall('\\d{1,2}[/-]\\d{1,2}[/-]\\d{2,4}',dateStr))"
   ]
  },
  {
   "cell_type": "code",
   "execution_count": 5,
   "metadata": {},
   "outputs": [
    {
     "name": "stdout",
     "output_type": "stream",
     "text": [
      "['Oct']\n",
      "['23 Oct 2002']\n",
      "['23 Oct 2002', '23 October 2002']\n",
      "['23 Oct 2002', '23 October 2002', 'Oct 23, 2002', 'October 23, 2002']\n"
     ]
    }
   ],
   "source": [
    "dateStr = '23-10-2002\\n23/10/2002\\n23/10/02\\n10/23/2002\\n23 Oct 2002\\n23 October 2002\\nOct 23, 2002\\nOctober 23, 2002\\n'\n",
    "\n",
    "# Maching the dates containing characters\n",
    "print(re.findall(r'\\d{1,2} (Jan|Feb|Mar|Apr|May|Jun|Jul|Aug|Sep|Oct|Nov|Dec) \\d{2,4}',dateStr))\n",
    "# Using the ? to Remove the Scope\n",
    "print(re.findall('\\d{1,2} (?:Jan|Feb|Mar|Apr|May|Jun|Jul|Aug|Sep|Oct|Nov|Dec) \\d{2,4}',dateStr))\n",
    "# Using [a-z]* to match October\n",
    "print(re.findall('\\d{1,2} (?:Jan|Feb|Mar|Apr|May|Jun|Jul|Aug|Sep|Oct|Nov|Dec)[a-z]* \\d{2,4}',dateStr))\n",
    "# Fixing the Regular expression to match the other type of date paterns\n",
    "print(re.findall('(?:\\d{1,2} )?(?:Jan|Feb|Mar|Apr|May|Jun|Jul|Aug|Sep|Oct|Nov|Dec)[a-z]* (?:\\d{1,2}, )?\\d{2,4}',dateStr))"
   ]
  },
  {
   "cell_type": "code",
   "execution_count": null,
   "metadata": {
    "collapsed": true
   },
   "outputs": [],
   "source": []
  }
 ],
 "metadata": {
  "kernelspec": {
   "display_name": "Python 3",
   "language": "python",
   "name": "python3"
  },
  "language_info": {
   "codemirror_mode": {
    "name": "ipython",
    "version": 3
   },
   "file_extension": ".py",
   "mimetype": "text/x-python",
   "name": "python",
   "nbconvert_exporter": "python",
   "pygments_lexer": "ipython3",
   "version": "3.6.1"
  }
 },
 "nbformat": 4,
 "nbformat_minor": 2
}
